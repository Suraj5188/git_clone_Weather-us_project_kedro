{
 "cells": [
  {
   "cell_type": "code",
   "execution_count": 1,
   "id": "efdbb73b-f7b5-474d-9efb-9b8cf40e218a",
   "metadata": {},
   "outputs": [
    {
     "data": {
      "text/html": [
       "<pre style=\"white-space:pre;overflow-x:auto;line-height:normal;font-family:Menlo,'DejaVu Sans Mono',consolas,'Courier New',monospace\"><span style=\"color: #7fbfbf; text-decoration-color: #7fbfbf\">[05/09/23 21:28:30] </span><span style=\"color: #000080; text-decoration-color: #000080\">INFO    </span> Resolved project path as: H:\\kedro_1\\weather_us\\weather-us.            <a href=\"file://H:\\kedro_1\\weather_us\\venv\\lib\\site-packages\\kedro\\ipython\\__init__.py\" target=\"_blank\"><span style=\"color: #7f7f7f; text-decoration-color: #7f7f7f\">__init__.py</span></a><span style=\"color: #7f7f7f; text-decoration-color: #7f7f7f\">:</span><a href=\"file://H:\\kedro_1\\weather_us\\venv\\lib\\site-packages\\kedro\\ipython\\__init__.py#134\" target=\"_blank\"><span style=\"color: #7f7f7f; text-decoration-color: #7f7f7f\">134</span></a>\n",
       "<span style=\"color: #7fbfbf; text-decoration-color: #7fbfbf\">                    </span>         To set a different path, run <span style=\"color: #008000; text-decoration-color: #008000\">'%reload_kedro &lt;project_root&gt;'</span>            <span style=\"color: #7f7f7f; text-decoration-color: #7f7f7f\">               </span>\n",
       "</pre>\n"
      ],
      "text/plain": [
       "\u001b[2;36m[05/09/23 21:28:30]\u001b[0m\u001b[2;36m \u001b[0m\u001b[34mINFO    \u001b[0m Resolved project path as: H:\\kedro_1\\weather_us\\weather-us.            \u001b]8;id=630941;file://H:\\kedro_1\\weather_us\\venv\\lib\\site-packages\\kedro\\ipython\\__init__.py\u001b\\\u001b[2m__init__.py\u001b[0m\u001b]8;;\u001b\\\u001b[2m:\u001b[0m\u001b]8;id=541591;file://H:\\kedro_1\\weather_us\\venv\\lib\\site-packages\\kedro\\ipython\\__init__.py#134\u001b\\\u001b[2m134\u001b[0m\u001b]8;;\u001b\\\n",
       "\u001b[2;36m                    \u001b[0m         To set a different path, run \u001b[32m'%reload_kedro \u001b[0m\u001b[32m<\u001b[0m\u001b[32mproject_root\u001b[0m\u001b[32m>\u001b[0m\u001b[32m'\u001b[0m            \u001b[2m               \u001b[0m\n"
      ]
     },
     "metadata": {},
     "output_type": "display_data"
    },
    {
     "data": {
      "text/html": [
       "<pre style=\"white-space:pre;overflow-x:auto;line-height:normal;font-family:Menlo,'DejaVu Sans Mono',consolas,'Courier New',monospace\"><span style=\"color: #7fbfbf; text-decoration-color: #7fbfbf\">[05/09/23 21:28:33] </span><span style=\"color: #000080; text-decoration-color: #000080\">INFO    </span> Kedro project weather-us                                               <a href=\"file://H:\\kedro_1\\weather_us\\venv\\lib\\site-packages\\kedro\\ipython\\__init__.py\" target=\"_blank\"><span style=\"color: #7f7f7f; text-decoration-color: #7f7f7f\">__init__.py</span></a><span style=\"color: #7f7f7f; text-decoration-color: #7f7f7f\">:</span><a href=\"file://H:\\kedro_1\\weather_us\\venv\\lib\\site-packages\\kedro\\ipython\\__init__.py#103\" target=\"_blank\"><span style=\"color: #7f7f7f; text-decoration-color: #7f7f7f\">103</span></a>\n",
       "</pre>\n"
      ],
      "text/plain": [
       "\u001b[2;36m[05/09/23 21:28:33]\u001b[0m\u001b[2;36m \u001b[0m\u001b[34mINFO    \u001b[0m Kedro project weather-us                                               \u001b]8;id=814484;file://H:\\kedro_1\\weather_us\\venv\\lib\\site-packages\\kedro\\ipython\\__init__.py\u001b\\\u001b[2m__init__.py\u001b[0m\u001b]8;;\u001b\\\u001b[2m:\u001b[0m\u001b]8;id=360619;file://H:\\kedro_1\\weather_us\\venv\\lib\\site-packages\\kedro\\ipython\\__init__.py#103\u001b\\\u001b[2m103\u001b[0m\u001b]8;;\u001b\\\n"
      ]
     },
     "metadata": {},
     "output_type": "display_data"
    },
    {
     "data": {
      "text/html": [
       "<pre style=\"white-space:pre;overflow-x:auto;line-height:normal;font-family:Menlo,'DejaVu Sans Mono',consolas,'Courier New',monospace\"><span style=\"color: #7fbfbf; text-decoration-color: #7fbfbf\">                    </span><span style=\"color: #000080; text-decoration-color: #000080\">INFO    </span> Defined global variable <span style=\"color: #008000; text-decoration-color: #008000\">'context'</span>, <span style=\"color: #008000; text-decoration-color: #008000\">'session'</span>, <span style=\"color: #008000; text-decoration-color: #008000\">'catalog'</span> and            <a href=\"file://H:\\kedro_1\\weather_us\\venv\\lib\\site-packages\\kedro\\ipython\\__init__.py\" target=\"_blank\"><span style=\"color: #7f7f7f; text-decoration-color: #7f7f7f\">__init__.py</span></a><span style=\"color: #7f7f7f; text-decoration-color: #7f7f7f\">:</span><a href=\"file://H:\\kedro_1\\weather_us\\venv\\lib\\site-packages\\kedro\\ipython\\__init__.py#104\" target=\"_blank\"><span style=\"color: #7f7f7f; text-decoration-color: #7f7f7f\">104</span></a>\n",
       "<span style=\"color: #7fbfbf; text-decoration-color: #7fbfbf\">                    </span>         <span style=\"color: #008000; text-decoration-color: #008000\">'pipelines'</span>                                                            <span style=\"color: #7f7f7f; text-decoration-color: #7f7f7f\">               </span>\n",
       "</pre>\n"
      ],
      "text/plain": [
       "\u001b[2;36m                   \u001b[0m\u001b[2;36m \u001b[0m\u001b[34mINFO    \u001b[0m Defined global variable \u001b[32m'context'\u001b[0m, \u001b[32m'session'\u001b[0m, \u001b[32m'catalog'\u001b[0m and            \u001b]8;id=725472;file://H:\\kedro_1\\weather_us\\venv\\lib\\site-packages\\kedro\\ipython\\__init__.py\u001b\\\u001b[2m__init__.py\u001b[0m\u001b]8;;\u001b\\\u001b[2m:\u001b[0m\u001b]8;id=617421;file://H:\\kedro_1\\weather_us\\venv\\lib\\site-packages\\kedro\\ipython\\__init__.py#104\u001b\\\u001b[2m104\u001b[0m\u001b]8;;\u001b\\\n",
       "\u001b[2;36m                    \u001b[0m         \u001b[32m'pipelines'\u001b[0m                                                            \u001b[2m               \u001b[0m\n"
      ]
     },
     "metadata": {},
     "output_type": "display_data"
    },
    {
     "data": {
      "text/html": [
       "<pre style=\"white-space:pre;overflow-x:auto;line-height:normal;font-family:Menlo,'DejaVu Sans Mono',consolas,'Courier New',monospace\"><span style=\"color: #7fbfbf; text-decoration-color: #7fbfbf\">                    </span><span style=\"color: #000080; text-decoration-color: #000080\">INFO    </span> Registered line magic <span style=\"color: #008000; text-decoration-color: #008000\">'run_viz'</span>                                        <a href=\"file://H:\\kedro_1\\weather_us\\venv\\lib\\site-packages\\kedro\\ipython\\__init__.py\" target=\"_blank\"><span style=\"color: #7f7f7f; text-decoration-color: #7f7f7f\">__init__.py</span></a><span style=\"color: #7f7f7f; text-decoration-color: #7f7f7f\">:</span><a href=\"file://H:\\kedro_1\\weather_us\\venv\\lib\\site-packages\\kedro\\ipython\\__init__.py#110\" target=\"_blank\"><span style=\"color: #7f7f7f; text-decoration-color: #7f7f7f\">110</span></a>\n",
       "</pre>\n"
      ],
      "text/plain": [
       "\u001b[2;36m                   \u001b[0m\u001b[2;36m \u001b[0m\u001b[34mINFO    \u001b[0m Registered line magic \u001b[32m'run_viz'\u001b[0m                                        \u001b]8;id=761027;file://H:\\kedro_1\\weather_us\\venv\\lib\\site-packages\\kedro\\ipython\\__init__.py\u001b\\\u001b[2m__init__.py\u001b[0m\u001b]8;;\u001b\\\u001b[2m:\u001b[0m\u001b]8;id=988324;file://H:\\kedro_1\\weather_us\\venv\\lib\\site-packages\\kedro\\ipython\\__init__.py#110\u001b\\\u001b[2m110\u001b[0m\u001b]8;;\u001b\\\n"
      ]
     },
     "metadata": {},
     "output_type": "display_data"
    }
   ],
   "source": [
    "#from kedro.extras.datasets.pandas import CSVDataSet\n",
    "#import pandas as pd \n",
    "%reload_kedro"
   ]
  },
  {
   "cell_type": "code",
   "execution_count": 2,
   "id": "8b3e4bdb-4534-45c6-9881-ac65bb10f062",
   "metadata": {},
   "outputs": [
    {
     "data": {
      "text/plain": [
       "['weather_aus_raw',\n",
       " 'df1',\n",
       " 'df1_treat_training_data',\n",
       " 'X_training',\n",
       " 'y_training',\n",
       " 'df2',\n",
       " 'logreg',\n",
       " 'parameters']"
      ]
     },
     "execution_count": 2,
     "metadata": {},
     "output_type": "execute_result"
    }
   ],
   "source": [
    "catalog.list()"
   ]
  },
  {
   "cell_type": "code",
   "execution_count": 3,
   "id": "3b2c8e9a-9e70-49b4-a8f8-ca3cb72d0b28",
   "metadata": {},
   "outputs": [],
   "source": [
    "import numpy as np  #linear algebra\n",
    "import pandas as pd #data processing, CSV file I?O\n",
    "import matplotlib.pyplot as plt #data visualization \n",
    "import seaborn as sns #statistical visualization \n",
    "%matplotlib inline \n",
    "import warnings\n",
    "warnings.filterwarnings('ignore')\n",
    "from sklearn.linear_model import LogisticRegression"
   ]
  },
  {
   "cell_type": "code",
   "execution_count": 4,
   "id": "2a22c4cd-d90b-46bf-9fb7-9761f571655b",
   "metadata": {},
   "outputs": [
    {
     "data": {
      "text/html": [
       "<pre style=\"white-space:pre;overflow-x:auto;line-height:normal;font-family:Menlo,'DejaVu Sans Mono',consolas,'Courier New',monospace\"><span style=\"color: #7fbfbf; text-decoration-color: #7fbfbf\">[05/09/23 21:28:50] </span><span style=\"color: #000080; text-decoration-color: #000080\">INFO    </span> Loading data from <span style=\"color: #008000; text-decoration-color: #008000\">'weather_aus_raw'</span> <span style=\"font-weight: bold\">(</span>CSVDataSet<span style=\"font-weight: bold\">)</span><span style=\"color: #808000; text-decoration-color: #808000\">...</span>                <a href=\"file://H:\\kedro_1\\weather_us\\venv\\lib\\site-packages\\kedro\\io\\data_catalog.py\" target=\"_blank\"><span style=\"color: #7f7f7f; text-decoration-color: #7f7f7f\">data_catalog.py</span></a><span style=\"color: #7f7f7f; text-decoration-color: #7f7f7f\">:</span><a href=\"file://H:\\kedro_1\\weather_us\\venv\\lib\\site-packages\\kedro\\io\\data_catalog.py#343\" target=\"_blank\"><span style=\"color: #7f7f7f; text-decoration-color: #7f7f7f\">343</span></a>\n",
       "</pre>\n"
      ],
      "text/plain": [
       "\u001b[2;36m[05/09/23 21:28:50]\u001b[0m\u001b[2;36m \u001b[0m\u001b[34mINFO    \u001b[0m Loading data from \u001b[32m'weather_aus_raw'\u001b[0m \u001b[1m(\u001b[0mCSVDataSet\u001b[1m)\u001b[0m\u001b[33m...\u001b[0m                \u001b]8;id=502487;file://H:\\kedro_1\\weather_us\\venv\\lib\\site-packages\\kedro\\io\\data_catalog.py\u001b\\\u001b[2mdata_catalog.py\u001b[0m\u001b]8;;\u001b\\\u001b[2m:\u001b[0m\u001b]8;id=54050;file://H:\\kedro_1\\weather_us\\venv\\lib\\site-packages\\kedro\\io\\data_catalog.py#343\u001b\\\u001b[2m343\u001b[0m\u001b]8;;\u001b\\\n"
      ]
     },
     "metadata": {},
     "output_type": "display_data"
    }
   ],
   "source": [
    "df = catalog.load(\"weather_aus_raw\")"
   ]
  },
  {
   "cell_type": "code",
   "execution_count": 5,
   "id": "0c08e0aa-3f14-45f8-a28d-4b16c23f3b9c",
   "metadata": {},
   "outputs": [
    {
     "data": {
      "text/html": [
       "<div>\n",
       "<style scoped>\n",
       "    .dataframe tbody tr th:only-of-type {\n",
       "        vertical-align: middle;\n",
       "    }\n",
       "\n",
       "    .dataframe tbody tr th {\n",
       "        vertical-align: top;\n",
       "    }\n",
       "\n",
       "    .dataframe thead th {\n",
       "        text-align: right;\n",
       "    }\n",
       "</style>\n",
       "<table border=\"1\" class=\"dataframe\">\n",
       "  <thead>\n",
       "    <tr style=\"text-align: right;\">\n",
       "      <th></th>\n",
       "      <th>Date</th>\n",
       "      <th>Location</th>\n",
       "      <th>MinTemp</th>\n",
       "      <th>MaxTemp</th>\n",
       "      <th>Rainfall</th>\n",
       "      <th>Evaporation</th>\n",
       "      <th>Sunshine</th>\n",
       "      <th>WindGustDir</th>\n",
       "      <th>WindGustSpeed</th>\n",
       "      <th>WindDir9am</th>\n",
       "      <th>...</th>\n",
       "      <th>Humidity3pm</th>\n",
       "      <th>Pressure9am</th>\n",
       "      <th>Pressure3pm</th>\n",
       "      <th>Cloud9am</th>\n",
       "      <th>Cloud3pm</th>\n",
       "      <th>Temp9am</th>\n",
       "      <th>Temp3pm</th>\n",
       "      <th>RainToday</th>\n",
       "      <th>RISK_MM</th>\n",
       "      <th>RainTomorrow</th>\n",
       "    </tr>\n",
       "  </thead>\n",
       "  <tbody>\n",
       "    <tr>\n",
       "      <th>0</th>\n",
       "      <td>2008-12-01</td>\n",
       "      <td>Albury</td>\n",
       "      <td>13.4</td>\n",
       "      <td>22.9</td>\n",
       "      <td>0.6</td>\n",
       "      <td>NaN</td>\n",
       "      <td>NaN</td>\n",
       "      <td>W</td>\n",
       "      <td>44.0</td>\n",
       "      <td>W</td>\n",
       "      <td>...</td>\n",
       "      <td>22.0</td>\n",
       "      <td>1007.7</td>\n",
       "      <td>1007.1</td>\n",
       "      <td>8.0</td>\n",
       "      <td>NaN</td>\n",
       "      <td>16.9</td>\n",
       "      <td>21.8</td>\n",
       "      <td>No</td>\n",
       "      <td>0.0</td>\n",
       "      <td>No</td>\n",
       "    </tr>\n",
       "    <tr>\n",
       "      <th>1</th>\n",
       "      <td>2008-12-02</td>\n",
       "      <td>Albury</td>\n",
       "      <td>7.4</td>\n",
       "      <td>25.1</td>\n",
       "      <td>0.0</td>\n",
       "      <td>NaN</td>\n",
       "      <td>NaN</td>\n",
       "      <td>WNW</td>\n",
       "      <td>44.0</td>\n",
       "      <td>NNW</td>\n",
       "      <td>...</td>\n",
       "      <td>25.0</td>\n",
       "      <td>1010.6</td>\n",
       "      <td>1007.8</td>\n",
       "      <td>NaN</td>\n",
       "      <td>NaN</td>\n",
       "      <td>17.2</td>\n",
       "      <td>24.3</td>\n",
       "      <td>No</td>\n",
       "      <td>0.0</td>\n",
       "      <td>No</td>\n",
       "    </tr>\n",
       "    <tr>\n",
       "      <th>2</th>\n",
       "      <td>2008-12-03</td>\n",
       "      <td>Albury</td>\n",
       "      <td>12.9</td>\n",
       "      <td>25.7</td>\n",
       "      <td>0.0</td>\n",
       "      <td>NaN</td>\n",
       "      <td>NaN</td>\n",
       "      <td>WSW</td>\n",
       "      <td>46.0</td>\n",
       "      <td>W</td>\n",
       "      <td>...</td>\n",
       "      <td>30.0</td>\n",
       "      <td>1007.6</td>\n",
       "      <td>1008.7</td>\n",
       "      <td>NaN</td>\n",
       "      <td>2.0</td>\n",
       "      <td>21.0</td>\n",
       "      <td>23.2</td>\n",
       "      <td>No</td>\n",
       "      <td>0.0</td>\n",
       "      <td>No</td>\n",
       "    </tr>\n",
       "    <tr>\n",
       "      <th>3</th>\n",
       "      <td>2008-12-04</td>\n",
       "      <td>Albury</td>\n",
       "      <td>9.2</td>\n",
       "      <td>28.0</td>\n",
       "      <td>0.0</td>\n",
       "      <td>NaN</td>\n",
       "      <td>NaN</td>\n",
       "      <td>NE</td>\n",
       "      <td>24.0</td>\n",
       "      <td>SE</td>\n",
       "      <td>...</td>\n",
       "      <td>16.0</td>\n",
       "      <td>1017.6</td>\n",
       "      <td>1012.8</td>\n",
       "      <td>NaN</td>\n",
       "      <td>NaN</td>\n",
       "      <td>18.1</td>\n",
       "      <td>26.5</td>\n",
       "      <td>No</td>\n",
       "      <td>1.0</td>\n",
       "      <td>No</td>\n",
       "    </tr>\n",
       "    <tr>\n",
       "      <th>4</th>\n",
       "      <td>2008-12-05</td>\n",
       "      <td>Albury</td>\n",
       "      <td>17.5</td>\n",
       "      <td>32.3</td>\n",
       "      <td>1.0</td>\n",
       "      <td>NaN</td>\n",
       "      <td>NaN</td>\n",
       "      <td>W</td>\n",
       "      <td>41.0</td>\n",
       "      <td>ENE</td>\n",
       "      <td>...</td>\n",
       "      <td>33.0</td>\n",
       "      <td>1010.8</td>\n",
       "      <td>1006.0</td>\n",
       "      <td>7.0</td>\n",
       "      <td>8.0</td>\n",
       "      <td>17.8</td>\n",
       "      <td>29.7</td>\n",
       "      <td>No</td>\n",
       "      <td>0.2</td>\n",
       "      <td>No</td>\n",
       "    </tr>\n",
       "  </tbody>\n",
       "</table>\n",
       "<p>5 rows × 24 columns</p>\n",
       "</div>"
      ],
      "text/plain": [
       "         Date Location  MinTemp  MaxTemp  Rainfall  Evaporation  Sunshine   \n",
       "0  2008-12-01   Albury     13.4     22.9       0.6          NaN       NaN  \\\n",
       "1  2008-12-02   Albury      7.4     25.1       0.0          NaN       NaN   \n",
       "2  2008-12-03   Albury     12.9     25.7       0.0          NaN       NaN   \n",
       "3  2008-12-04   Albury      9.2     28.0       0.0          NaN       NaN   \n",
       "4  2008-12-05   Albury     17.5     32.3       1.0          NaN       NaN   \n",
       "\n",
       "  WindGustDir  WindGustSpeed WindDir9am  ... Humidity3pm  Pressure9am   \n",
       "0           W           44.0          W  ...        22.0       1007.7  \\\n",
       "1         WNW           44.0        NNW  ...        25.0       1010.6   \n",
       "2         WSW           46.0          W  ...        30.0       1007.6   \n",
       "3          NE           24.0         SE  ...        16.0       1017.6   \n",
       "4           W           41.0        ENE  ...        33.0       1010.8   \n",
       "\n",
       "   Pressure3pm  Cloud9am  Cloud3pm  Temp9am  Temp3pm  RainToday  RISK_MM   \n",
       "0       1007.1       8.0       NaN     16.9     21.8         No      0.0  \\\n",
       "1       1007.8       NaN       NaN     17.2     24.3         No      0.0   \n",
       "2       1008.7       NaN       2.0     21.0     23.2         No      0.0   \n",
       "3       1012.8       NaN       NaN     18.1     26.5         No      1.0   \n",
       "4       1006.0       7.0       8.0     17.8     29.7         No      0.2   \n",
       "\n",
       "   RainTomorrow  \n",
       "0            No  \n",
       "1            No  \n",
       "2            No  \n",
       "3            No  \n",
       "4            No  \n",
       "\n",
       "[5 rows x 24 columns]"
      ]
     },
     "execution_count": 5,
     "metadata": {},
     "output_type": "execute_result"
    }
   ],
   "source": [
    "df.head()"
   ]
  },
  {
   "cell_type": "code",
   "execution_count": 6,
   "id": "0992ecbd-284f-417c-ab5b-ffb7efe084f8",
   "metadata": {},
   "outputs": [
    {
     "data": {
      "text/plain": [
       "(142193, 24)"
      ]
     },
     "execution_count": 6,
     "metadata": {},
     "output_type": "execute_result"
    }
   ],
   "source": [
    "df.shape"
   ]
  },
  {
   "cell_type": "code",
   "execution_count": 7,
   "id": "cb6358bf-7809-465c-af2b-775af454ccd0",
   "metadata": {},
   "outputs": [
    {
     "data": {
      "text/plain": [
       "Index(['Date', 'Location', 'MinTemp', 'MaxTemp', 'Rainfall', 'Evaporation',\n",
       "       'Sunshine', 'WindGustDir', 'WindGustSpeed', 'WindDir9am', 'WindDir3pm',\n",
       "       'WindSpeed9am', 'WindSpeed3pm', 'Humidity9am', 'Humidity3pm',\n",
       "       'Pressure9am', 'Pressure3pm', 'Cloud9am', 'Cloud3pm', 'Temp9am',\n",
       "       'Temp3pm', 'RainToday', 'RISK_MM', 'RainTomorrow'],\n",
       "      dtype='object')"
      ]
     },
     "execution_count": 7,
     "metadata": {},
     "output_type": "execute_result"
    }
   ],
   "source": [
    "df.columns"
   ]
  },
  {
   "cell_type": "code",
   "execution_count": 8,
   "id": "b3f3029f-068d-46cd-a961-aadd3ca462f8",
   "metadata": {},
   "outputs": [
    {
     "data": {
      "text/plain": [
       "8703"
      ]
     },
     "execution_count": 8,
     "metadata": {},
     "output_type": "execute_result"
    }
   ],
   "source": [
    "df.nunique().sum()"
   ]
  },
  {
   "cell_type": "code",
   "execution_count": 9,
   "id": "89389f73-7c6a-4b54-b702-110b182ff5d5",
   "metadata": {},
   "outputs": [],
   "source": [
    "# dropping the null values in dependant variable\n",
    "# use df1 variable for training data\n",
    "\n",
    "def extract_training_data(df):\n",
    "  \"\"\"\n",
    "  Drop date column from dataframe.\n",
    "  Arg=df\n",
    "  output=Dataframe with no date column.\n",
    "  \"\"\"\n",
    "  df=df.drop([\"Date\"],axis=1)\n",
    "  df1=df[df['RainTomorrow'].notna()] \n",
    "  return df1"
   ]
  },
  {
   "cell_type": "markdown",
   "id": "e2cb73a8-b627-4f5d-bbf8-6b3017dfd1f8",
   "metadata": {},
   "source": [
    "**Dataset Reading Or Dataset Basic information**"
   ]
  },
  {
   "cell_type": "code",
   "execution_count": 10,
   "id": "8ecfb272-6769-4e46-a7a5-64294c6ab343",
   "metadata": {},
   "outputs": [],
   "source": [
    "df1=extract_training_data(df)"
   ]
  },
  {
   "cell_type": "code",
   "execution_count": 11,
   "id": "2189ee7a-2876-437a-975c-1451df35d985",
   "metadata": {},
   "outputs": [
    {
     "data": {
      "text/html": [
       "<div>\n",
       "<style scoped>\n",
       "    .dataframe tbody tr th:only-of-type {\n",
       "        vertical-align: middle;\n",
       "    }\n",
       "\n",
       "    .dataframe tbody tr th {\n",
       "        vertical-align: top;\n",
       "    }\n",
       "\n",
       "    .dataframe thead th {\n",
       "        text-align: right;\n",
       "    }\n",
       "</style>\n",
       "<table border=\"1\" class=\"dataframe\">\n",
       "  <thead>\n",
       "    <tr style=\"text-align: right;\">\n",
       "      <th></th>\n",
       "      <th>Location</th>\n",
       "      <th>MinTemp</th>\n",
       "      <th>MaxTemp</th>\n",
       "      <th>Rainfall</th>\n",
       "      <th>Evaporation</th>\n",
       "      <th>Sunshine</th>\n",
       "      <th>WindGustDir</th>\n",
       "      <th>WindGustSpeed</th>\n",
       "      <th>WindDir9am</th>\n",
       "      <th>WindDir3pm</th>\n",
       "      <th>...</th>\n",
       "      <th>Humidity3pm</th>\n",
       "      <th>Pressure9am</th>\n",
       "      <th>Pressure3pm</th>\n",
       "      <th>Cloud9am</th>\n",
       "      <th>Cloud3pm</th>\n",
       "      <th>Temp9am</th>\n",
       "      <th>Temp3pm</th>\n",
       "      <th>RainToday</th>\n",
       "      <th>RISK_MM</th>\n",
       "      <th>RainTomorrow</th>\n",
       "    </tr>\n",
       "  </thead>\n",
       "  <tbody>\n",
       "    <tr>\n",
       "      <th>0</th>\n",
       "      <td>Albury</td>\n",
       "      <td>13.4</td>\n",
       "      <td>22.9</td>\n",
       "      <td>0.6</td>\n",
       "      <td>NaN</td>\n",
       "      <td>NaN</td>\n",
       "      <td>W</td>\n",
       "      <td>44.0</td>\n",
       "      <td>W</td>\n",
       "      <td>WNW</td>\n",
       "      <td>...</td>\n",
       "      <td>22.0</td>\n",
       "      <td>1007.7</td>\n",
       "      <td>1007.1</td>\n",
       "      <td>8.0</td>\n",
       "      <td>NaN</td>\n",
       "      <td>16.9</td>\n",
       "      <td>21.8</td>\n",
       "      <td>No</td>\n",
       "      <td>0.0</td>\n",
       "      <td>No</td>\n",
       "    </tr>\n",
       "    <tr>\n",
       "      <th>1</th>\n",
       "      <td>Albury</td>\n",
       "      <td>7.4</td>\n",
       "      <td>25.1</td>\n",
       "      <td>0.0</td>\n",
       "      <td>NaN</td>\n",
       "      <td>NaN</td>\n",
       "      <td>WNW</td>\n",
       "      <td>44.0</td>\n",
       "      <td>NNW</td>\n",
       "      <td>WSW</td>\n",
       "      <td>...</td>\n",
       "      <td>25.0</td>\n",
       "      <td>1010.6</td>\n",
       "      <td>1007.8</td>\n",
       "      <td>NaN</td>\n",
       "      <td>NaN</td>\n",
       "      <td>17.2</td>\n",
       "      <td>24.3</td>\n",
       "      <td>No</td>\n",
       "      <td>0.0</td>\n",
       "      <td>No</td>\n",
       "    </tr>\n",
       "    <tr>\n",
       "      <th>2</th>\n",
       "      <td>Albury</td>\n",
       "      <td>12.9</td>\n",
       "      <td>25.7</td>\n",
       "      <td>0.0</td>\n",
       "      <td>NaN</td>\n",
       "      <td>NaN</td>\n",
       "      <td>WSW</td>\n",
       "      <td>46.0</td>\n",
       "      <td>W</td>\n",
       "      <td>WSW</td>\n",
       "      <td>...</td>\n",
       "      <td>30.0</td>\n",
       "      <td>1007.6</td>\n",
       "      <td>1008.7</td>\n",
       "      <td>NaN</td>\n",
       "      <td>2.0</td>\n",
       "      <td>21.0</td>\n",
       "      <td>23.2</td>\n",
       "      <td>No</td>\n",
       "      <td>0.0</td>\n",
       "      <td>No</td>\n",
       "    </tr>\n",
       "    <tr>\n",
       "      <th>3</th>\n",
       "      <td>Albury</td>\n",
       "      <td>9.2</td>\n",
       "      <td>28.0</td>\n",
       "      <td>0.0</td>\n",
       "      <td>NaN</td>\n",
       "      <td>NaN</td>\n",
       "      <td>NE</td>\n",
       "      <td>24.0</td>\n",
       "      <td>SE</td>\n",
       "      <td>E</td>\n",
       "      <td>...</td>\n",
       "      <td>16.0</td>\n",
       "      <td>1017.6</td>\n",
       "      <td>1012.8</td>\n",
       "      <td>NaN</td>\n",
       "      <td>NaN</td>\n",
       "      <td>18.1</td>\n",
       "      <td>26.5</td>\n",
       "      <td>No</td>\n",
       "      <td>1.0</td>\n",
       "      <td>No</td>\n",
       "    </tr>\n",
       "    <tr>\n",
       "      <th>4</th>\n",
       "      <td>Albury</td>\n",
       "      <td>17.5</td>\n",
       "      <td>32.3</td>\n",
       "      <td>1.0</td>\n",
       "      <td>NaN</td>\n",
       "      <td>NaN</td>\n",
       "      <td>W</td>\n",
       "      <td>41.0</td>\n",
       "      <td>ENE</td>\n",
       "      <td>NW</td>\n",
       "      <td>...</td>\n",
       "      <td>33.0</td>\n",
       "      <td>1010.8</td>\n",
       "      <td>1006.0</td>\n",
       "      <td>7.0</td>\n",
       "      <td>8.0</td>\n",
       "      <td>17.8</td>\n",
       "      <td>29.7</td>\n",
       "      <td>No</td>\n",
       "      <td>0.2</td>\n",
       "      <td>No</td>\n",
       "    </tr>\n",
       "  </tbody>\n",
       "</table>\n",
       "<p>5 rows × 23 columns</p>\n",
       "</div>"
      ],
      "text/plain": [
       "  Location  MinTemp  MaxTemp  Rainfall  Evaporation  Sunshine WindGustDir   \n",
       "0   Albury     13.4     22.9       0.6          NaN       NaN           W  \\\n",
       "1   Albury      7.4     25.1       0.0          NaN       NaN         WNW   \n",
       "2   Albury     12.9     25.7       0.0          NaN       NaN         WSW   \n",
       "3   Albury      9.2     28.0       0.0          NaN       NaN          NE   \n",
       "4   Albury     17.5     32.3       1.0          NaN       NaN           W   \n",
       "\n",
       "   WindGustSpeed WindDir9am WindDir3pm  ...  Humidity3pm  Pressure9am   \n",
       "0           44.0          W        WNW  ...         22.0       1007.7  \\\n",
       "1           44.0        NNW        WSW  ...         25.0       1010.6   \n",
       "2           46.0          W        WSW  ...         30.0       1007.6   \n",
       "3           24.0         SE          E  ...         16.0       1017.6   \n",
       "4           41.0        ENE         NW  ...         33.0       1010.8   \n",
       "\n",
       "   Pressure3pm  Cloud9am  Cloud3pm  Temp9am  Temp3pm  RainToday  RISK_MM   \n",
       "0       1007.1       8.0       NaN     16.9     21.8         No      0.0  \\\n",
       "1       1007.8       NaN       NaN     17.2     24.3         No      0.0   \n",
       "2       1008.7       NaN       2.0     21.0     23.2         No      0.0   \n",
       "3       1012.8       NaN       NaN     18.1     26.5         No      1.0   \n",
       "4       1006.0       7.0       8.0     17.8     29.7         No      0.2   \n",
       "\n",
       "   RainTomorrow  \n",
       "0            No  \n",
       "1            No  \n",
       "2            No  \n",
       "3            No  \n",
       "4            No  \n",
       "\n",
       "[5 rows x 23 columns]"
      ]
     },
     "execution_count": 11,
     "metadata": {},
     "output_type": "execute_result"
    }
   ],
   "source": [
    "df1.head()"
   ]
  },
  {
   "cell_type": "code",
   "execution_count": 12,
   "id": "7d6a1263-9baa-407a-80ed-1ca7422dd577",
   "metadata": {},
   "outputs": [
    {
     "data": {
      "text/plain": [
       "(142193, 23)"
      ]
     },
     "execution_count": 12,
     "metadata": {},
     "output_type": "execute_result"
    }
   ],
   "source": [
    "df1.shape"
   ]
  },
  {
   "cell_type": "code",
   "execution_count": 13,
   "id": "1c19234f-b4d3-4449-b262-955752d95bcc",
   "metadata": {},
   "outputs": [
    {
     "data": {
      "text/plain": [
       "Index(['Location', 'MinTemp', 'MaxTemp', 'Rainfall', 'Evaporation', 'Sunshine',\n",
       "       'WindGustDir', 'WindGustSpeed', 'WindDir9am', 'WindDir3pm',\n",
       "       'WindSpeed9am', 'WindSpeed3pm', 'Humidity9am', 'Humidity3pm',\n",
       "       'Pressure9am', 'Pressure3pm', 'Cloud9am', 'Cloud3pm', 'Temp9am',\n",
       "       'Temp3pm', 'RainToday', 'RISK_MM', 'RainTomorrow'],\n",
       "      dtype='object')"
      ]
     },
     "execution_count": 13,
     "metadata": {},
     "output_type": "execute_result"
    }
   ],
   "source": [
    "df1.columns"
   ]
  },
  {
   "cell_type": "code",
   "execution_count": 14,
   "id": "97489774-e722-46c6-81b3-9dab2e219012",
   "metadata": {},
   "outputs": [
    {
     "data": {
      "text/plain": [
       "3270439"
      ]
     },
     "execution_count": 14,
     "metadata": {},
     "output_type": "execute_result"
    }
   ],
   "source": [
    "df1.size"
   ]
  },
  {
   "cell_type": "code",
   "execution_count": 15,
   "id": "d18e3a57-9e1d-4dcd-9e38-765a7e4a159e",
   "metadata": {},
   "outputs": [
    {
     "name": "stdout",
     "output_type": "stream",
     "text": [
      "<class 'pandas.core.frame.DataFrame'>\n",
      "RangeIndex: 142193 entries, 0 to 142192\n",
      "Data columns (total 23 columns):\n",
      " #   Column         Non-Null Count   Dtype  \n",
      "---  ------         --------------   -----  \n",
      " 0   Location       142193 non-null  object \n",
      " 1   MinTemp        141556 non-null  float64\n",
      " 2   MaxTemp        141871 non-null  float64\n",
      " 3   Rainfall       140787 non-null  float64\n",
      " 4   Evaporation    81350 non-null   float64\n",
      " 5   Sunshine       74377 non-null   float64\n",
      " 6   WindGustDir    132863 non-null  object \n",
      " 7   WindGustSpeed  132923 non-null  float64\n",
      " 8   WindDir9am     132180 non-null  object \n",
      " 9   WindDir3pm     138415 non-null  object \n",
      " 10  WindSpeed9am   140845 non-null  float64\n",
      " 11  WindSpeed3pm   139563 non-null  float64\n",
      " 12  Humidity9am    140419 non-null  float64\n",
      " 13  Humidity3pm    138583 non-null  float64\n",
      " 14  Pressure9am    128179 non-null  float64\n",
      " 15  Pressure3pm    128212 non-null  float64\n",
      " 16  Cloud9am       88536 non-null   float64\n",
      " 17  Cloud3pm       85099 non-null   float64\n",
      " 18  Temp9am        141289 non-null  float64\n",
      " 19  Temp3pm        139467 non-null  float64\n",
      " 20  RainToday      140787 non-null  object \n",
      " 21  RISK_MM        142193 non-null  float64\n",
      " 22  RainTomorrow   142193 non-null  object \n",
      "dtypes: float64(17), object(6)\n",
      "memory usage: 25.0+ MB\n"
     ]
    }
   ],
   "source": [
    "df1.info()"
   ]
  },
  {
   "cell_type": "markdown",
   "id": "446fb546-1544-4d23-a95e-02d0fe48ed05",
   "metadata": {},
   "source": [
    "**Data Preprocessing OR Feature Engineering**"
   ]
  },
  {
   "cell_type": "markdown",
   "id": "2d20a39c-f7c3-4f5d-95ca-d0406ec5d1dc",
   "metadata": {},
   "source": [
    "Filling Missing value for catgorical column"
   ]
  },
  {
   "cell_type": "code",
   "execution_count": 16,
   "id": "95061e50-3984-4056-860d-4b4b2d04265a",
   "metadata": {},
   "outputs": [
    {
     "name": "stdout",
     "output_type": "stream",
     "text": [
      "Categorical variables:\n",
      "['Location', 'WindGustDir', 'WindDir9am', 'WindDir3pm', 'RainToday', 'RainTomorrow']\n"
     ]
    }
   ],
   "source": [
    "# Get list of categorical variables\n",
    "s = (df1.dtypes == \"object\")\n",
    "object_cols = list(s[s].index)\n",
    "\n",
    "print(\"Categorical variables:\")\n",
    "print(object_cols)"
   ]
  },
  {
   "cell_type": "code",
   "execution_count": 17,
   "id": "1a388bf9-b390-4fea-b497-4cfff4dc22d1",
   "metadata": {},
   "outputs": [
    {
     "name": "stdout",
     "output_type": "stream",
     "text": [
      "Numerical Variable : \n",
      "['MinTemp', 'MaxTemp', 'Rainfall', 'Evaporation', 'Sunshine', 'WindGustSpeed', 'WindSpeed9am', 'WindSpeed3pm', 'Humidity9am', 'Humidity3pm', 'Pressure9am', 'Pressure3pm', 'Cloud9am', 'Cloud3pm', 'Temp9am', 'Temp3pm', 'RISK_MM']\n"
     ]
    }
   ],
   "source": [
    "# Get a list of numerical variable\n",
    "\n",
    "s1=(df1.dtypes=='float64')\n",
    "object_cols2=list(s1[s1].index)\n",
    "\n",
    "print('Numerical Variable : \\n{}'.format(object_cols2))"
   ]
  },
  {
   "cell_type": "code",
   "execution_count": 18,
   "id": "41355090-bd37-4463-90d9-4a0e9bcf21ea",
   "metadata": {},
   "outputs": [
    {
     "data": {
      "text/plain": [
       "'\\ndef fillna_catgorical_mode(column):\\n    \"\"\"\\n    Filling Missing value in catgorical column\\n    \"\"\"\\n    column_mode = column.mode()[0] # mode() returns a Series, so we take the first value\\n    \\n    return column.fillna(column_mode)\\n\\n\\n    # Apply the function to each categorical column in the DataFrame\\ncategorical_cols = df1.select_dtypes(include=[\\'object\\']).columns\\ndf1[categorical_cols] = df1[categorical_cols].apply(fillna_catgorical_mode)\\n'"
      ]
     },
     "execution_count": 18,
     "metadata": {},
     "output_type": "execute_result"
    }
   ],
   "source": [
    "# Define a function to fill missing values with the mode of a categorical column\n",
    "'''\n",
    "def fillna_catgorical_mode(column):\n",
    "    \"\"\"\n",
    "    Filling Missing value in catgorical column\n",
    "    \"\"\"\n",
    "    column_mode = column.mode()[0] # mode() returns a Series, so we take the first value\n",
    "    \n",
    "    return column.fillna(column_mode)\n",
    "\n",
    "\n",
    "    # Apply the function to each categorical column in the DataFrame\n",
    "categorical_cols = df1.select_dtypes(include=['object']).columns\n",
    "df1[categorical_cols] = df1[categorical_cols].apply(fillna_catgorical_mode)\n",
    "'''\n",
    "#print(df1)"
   ]
  },
  {
   "cell_type": "code",
   "execution_count": 19,
   "id": "ee265070-15e7-4f33-af41-95b8d92f8472",
   "metadata": {},
   "outputs": [],
   "source": [
    "def treat_missing(df1):\n",
    "  \"\"\"\n",
    "  treat missing values with ffill and bfill method\n",
    "\n",
    "  Arg=df_training_data\n",
    "\n",
    "  output=nan values from training data get fill with the ffill and bfill method.\"\"\"\n",
    "  df1_treat_training_data=df1.fillna(method=\"ffill\",axis=0).fillna(method=\"bfill\",axis=0)\n",
    "  return df1_treat_training_data"
   ]
  },
  {
   "cell_type": "code",
   "execution_count": 20,
   "id": "4112be1e-12cd-4284-ad55-289fca04ab57",
   "metadata": {},
   "outputs": [],
   "source": [
    "def training_data_split(df1_treat_training_data):\n",
    "  \"\"\"\n",
    "  Training data spliting ie.separating predictors and response variables.\n",
    "\n",
    "  Arg=df_treat_training_data\n",
    "\n",
    "  Output=Target variable get separated from main traing data.\"\"\"\n",
    "  X_training=df1_treat_training_data.drop([\"RainTomorrow\"],axis=1)\n",
    "  y_training=df1_treat_training_data[\"RainTomorrow\"]\n",
    "  return X_training, y_training"
   ]
  },
  {
   "cell_type": "code",
   "execution_count": 21,
   "id": "ec335486-6583-412c-9ae5-2a008f8a995a",
   "metadata": {},
   "outputs": [],
   "source": [
    "def lebel_encoding_filling_null(X_training):\n",
    "  \"\"\"\n",
    "  Labal encoding on the discrite varibales.\n",
    "\n",
    "  Arg=X_training\n",
    "\n",
    "  Output=converting categorical data into numeric variable.\"\"\"\n",
    "  \n",
    "  label_encoder = preprocessing.LabelEncoder()\n",
    "  \n",
    "  X_training[\"Location\"]=label_encoder.fit_transform(X_training[\"Location\"])\n",
    "  X_training[\"WindGustDir\"]=label_encoder.fit_transform(X_training[\"WindGustDir\"])\n",
    "  X_training[\"WindDir9am\"]=label_encoder.fit_transform(X_training[\"WindDir9am\"])\n",
    "  X_training[\"WindDir3pm\"]=label_encoder.fit_transform(X_training[\"WindDir3pm\"])\n",
    "  X_training[\"RainToday\"]=label_encoder.fit_transform(X_training[\"RainToday\"])\n",
    "  df2 = X_training.copy()\n",
    "  return df2"
   ]
  },
  {
   "cell_type": "code",
   "execution_count": 22,
   "id": "cd778341-1f44-4013-a4e8-5824458b5bd9",
   "metadata": {},
   "outputs": [],
   "source": [
    "def split_data(df2,y_training):\n",
    "  \"\"\"Split data into features and targets training and test set.\n",
    "  Args:\n",
    "    data;data containing features and targets\n",
    "  returns:\n",
    "    split data\n",
    " \"\"\"\n",
    "  \n",
    "\n",
    "  X_train,X_test,y_train,y_test=train_test_split(df2,y_training,random_state=0,test_size=0.20)\n",
    "\n",
    "  return X_train,X_test,y_train,y_test "
   ]
  },
  {
   "cell_type": "code",
   "execution_count": 23,
   "id": "451eecf0-f4d2-42c8-bea0-3f25f978282b",
   "metadata": {},
   "outputs": [],
   "source": [
    "def train_model(X_train,X_test,y_train,y_test ):\n",
    "  \"\"\"Trains the logistic regression model.\n",
    "  Args:\n",
    "      X_train:Training data of independent features\n",
    "      y_train:Training data for price\n",
    "  Returns:\n",
    "      Trined model.\n",
    " \"\"\"\n",
    "  #instantiate the model\n",
    "  logreg=LogisticRegression(solver='liblinear',random_state=0)\n",
    "\n",
    "  #fit the model\n",
    "  logreg = logreg.fit(X_train,y_train)\n",
    "  return logreg\n"
   ]
  },
  {
   "cell_type": "code",
   "execution_count": 24,
   "id": "eda98bd2-e51c-411d-b2ca-06d14b04bea1",
   "metadata": {},
   "outputs": [],
   "source": [
    "def evaluate_model(logreg:LogisticRegression, X_test:pd.DataFrame, y_test:pd.Series):\n",
    "  \"\"\"calculate and logs the coefficient of determination.\n",
    "  Args:\n",
    "      logreg:Trined model\n",
    "      X_test:Testing data of independent features\n",
    "      y_test:Testing data for price\n",
    "  Returns:\n",
    "      y_pred_test:prediction on x test\n",
    "      acc        :accuracy_score\n",
    "  \"\"\"\n",
    "  y_pred_test=logreg.predict(X_test)\n",
    "  #Check accuracy score\n",
    "  \n",
    "  acc=(accuracy_score(y_test,y_pred_test))\n",
    "  print('model accuracy_score: ',acc)\n",
    "  return y_pred_test,acc"
   ]
  },
  {
   "cell_type": "code",
   "execution_count": 25,
   "id": "5a45e0cd-e5f5-431e-b9de-9ff30b64e0ad",
   "metadata": {},
   "outputs": [],
   "source": [
    "def inferance_data(df):\n",
    "  \"\"\"Drop date column from dataframe.\n",
    "  Arg=df\n",
    "  output=Dataframe with no date column.\"\"\"\n",
    "  df=df.drop([\"Date\"],axis=1)\n",
    "  df_inferance=df[df['RainTomorrow'].isnana()] \n",
    "  return df_inferance"
   ]
  },
  {
   "cell_type": "code",
   "execution_count": 26,
   "id": "6006d0dc-abe0-4f73-b7d2-c4e113fc5b31",
   "metadata": {},
   "outputs": [],
   "source": [
    "def treat_missing_inferance(df_inferance):\n",
    "  \"\"\"treat missing values with ffill and bfill method\n",
    "\n",
    "  Arg=df_training_data\n",
    "\n",
    "  output=nan values from training data get fill with the ffill and bfill method.\"\"\"\n",
    "  df1_treat_inferance_data=df_inferance.fillna(method=\"ffill\",axis=0).fillna(method=\"bfill\",axis=0)\n",
    "  return df1_treat_inferance_data"
   ]
  },
  {
   "cell_type": "code",
   "execution_count": 27,
   "id": "a925b465-d1fe-4bd8-80df-fe2562668cd3",
   "metadata": {},
   "outputs": [],
   "source": [
    "def inferance_data_split(df1_treat_inferance_data):\n",
    "  \"\"\"Training data spliting ie.separating predictors and response variables.\n",
    "\n",
    "  Arg=df_treat_training_data\n",
    "\n",
    "  Output=Target variable get separated from main traing data.\"\"\"\n",
    "  X_inferance=df1_treat_inferance_data.drop([\"RainTomorrow\"],axis=1)\n",
    "  y_inferance=df1_treat_inferance_data[\"RainTomorrow\"]\n",
    "  return X_inferance, y_inferance"
   ]
  },
  {
   "cell_type": "code",
   "execution_count": 28,
   "id": "6ddd2355-1bee-4569-b94b-d3b731c69f76",
   "metadata": {},
   "outputs": [],
   "source": [
    "def lebel_encoding_filling_null(X_inferance):\n",
    "  \"\"\"Lebal encoding on the discrite varibales.\n",
    "\n",
    "  Arg=X_training\n",
    "\n",
    "  Output=converting categorical data into numeric variable.\"\"\"\n",
    "  \n",
    "  label_encoder = preprocessing.LabelEncoder()\n",
    "  \n",
    "  X_inferance[\"Location\"]=label_encoder.fit_transform(X_inferance[\"Location\"])\n",
    "  X_inferance[\"WindGustDir\"]=label_encoder.fit_transform(X_inferance[\"WindGustDir\"])\n",
    "  X_inferance[\"WindDir9am\"]=label_encoder.fit_transform(X_inferance[\"WindDir9am\"])\n",
    "  X_inferance[\"WindDir3pm\"]=label_encoder.fit_transform(X_inferance[\"WindDir3pm\"])\n",
    "  X_inferance[\"RainToday\"]=label_encoder.fit_transform(X_inferance[\"RainToday\"])\n",
    "  df2_inferance = X_inferance.copy()\n",
    "  return df2_inferance"
   ]
  },
  {
   "cell_type": "code",
   "execution_count": null,
   "id": "de151819-023a-4354-9099-b8167f527aad",
   "metadata": {},
   "outputs": [],
   "source": []
  }
 ],
 "metadata": {
  "kernelspec": {
   "display_name": "Kedro (weather_us)",
   "language": "python",
   "name": "kedro_weather_us"
  },
  "language_info": {
   "codemirror_mode": {
    "name": "ipython",
    "version": 3
   },
   "file_extension": ".py",
   "mimetype": "text/x-python",
   "name": "python",
   "nbconvert_exporter": "python",
   "pygments_lexer": "ipython3",
   "version": "3.10.7"
  }
 },
 "nbformat": 4,
 "nbformat_minor": 5
}
